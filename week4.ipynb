{
    "cells": [
        {
            "cell_type": "code",
            "execution_count": 4,
            "metadata": {},
            "outputs": [
                {
                    "name": "stdout",
                    "output_type": "stream",
                    "text": "Requirement already satisfied: folium in /opt/conda/envs/Python-3.7-main/lib/python3.7/site-packages (0.5.0)\r\nRequirement already satisfied: branca in /opt/conda/envs/Python-3.7-main/lib/python3.7/site-packages (from folium) (0.4.2)\r\nRequirement already satisfied: jinja2 in /opt/conda/envs/Python-3.7-main/lib/python3.7/site-packages (from folium) (2.11.3)\r\nRequirement already satisfied: requests in /opt/conda/envs/Python-3.7-main/lib/python3.7/site-packages (from folium) (2.25.1)\r\nRequirement already satisfied: six in /opt/conda/envs/Python-3.7-main/lib/python3.7/site-packages (from folium) (1.15.0)\r\nRequirement already satisfied: MarkupSafe>=0.23 in /opt/conda/envs/Python-3.7-main/lib/python3.7/site-packages (from jinja2->folium) (1.1.1)\r\nRequirement already satisfied: urllib3<1.27,>=1.21.1 in /opt/conda/envs/Python-3.7-main/lib/python3.7/site-packages (from requests->folium) (1.26.4)\r\nRequirement already satisfied: idna<3,>=2.5 in /opt/conda/envs/Python-3.7-main/lib/python3.7/site-packages (from requests->folium) (2.10)\r\nRequirement already satisfied: chardet<5,>=3.0.2 in /opt/conda/envs/Python-3.7-main/lib/python3.7/site-packages (from requests->folium) (4.0.0)\r\nRequirement already satisfied: certifi>=2017.4.17 in /opt/conda/envs/Python-3.7-main/lib/python3.7/site-packages (from requests->folium) (2020.12.5)\r\n"
                }
            ],
            "source": "import requests # library to handle requests\nimport pandas as pd # library for data analsysis\nimport numpy as np\n!pip install folium\nimport folium "
        },
        {
            "cell_type": "code",
            "execution_count": 5,
            "metadata": {},
            "outputs": [
                {
                    "name": "stdout",
                    "output_type": "stream",
                    "text": "Your credentails:\nCLIENT_ID: 5EWKJF14LFOBC2HVPZZJIC0EGS1OWJS3ZRJO1QQEGOPYKO5V\nCLIENT_SECRET:RV0JB2GJ1X23GLIALFR5UIKBU2LSEP4EXFSBKFJDG4H44T4J\n"
                }
            ],
            "source": "CLIENT_ID = '5EWKJF14LFOBC2HVPZZJIC0EGS1OWJS3ZRJO1QQEGOPYKO5V' # your Foursquare ID\nCLIENT_SECRET = 'RV0JB2GJ1X23GLIALFR5UIKBU2LSEP4EXFSBKFJDG4H44T4J' # your Foursquare Secret\nVERSION = '20180604'\nLIMIT = 30\nprint('Your credentails:')\nprint('CLIENT_ID: ' + CLIENT_ID)\nprint('CLIENT_SECRET:' + CLIENT_SECRET)"
        },
        {
            "cell_type": "code",
            "execution_count": 6,
            "metadata": {},
            "outputs": [],
            "source": "import requests\n\nrequest_parameters = {\n    \"client_id\": CLIENT_ID,\n    \"client_secret\": CLIENT_SECRET,\n    \"v\": '20180605',\n    \"section\": \"coffee\",\n    \"near\": \"Da Nang\",\n    \"radius\": 1000,\n    \"limit\": 50}\n\ndata = requests.get(\"https://api.foursquare.com/v2/venues/explore\", params=request_parameters)\n"
        },
        {
            "cell_type": "code",
            "execution_count": 7,
            "metadata": {},
            "outputs": [
                {
                    "data": {
                        "text/plain": "dict_keys(['suggestedFilters', 'geocode', 'headerLocation', 'headerFullLocation', 'headerLocationGranularity', 'query', 'totalResults', 'suggestedBounds', 'groups'])"
                    },
                    "execution_count": 7,
                    "metadata": {},
                    "output_type": "execute_result"
                }
            ],
            "source": "d = data.json()[\"response\"]\nd.keys()\n"
        },
        {
            "cell_type": "code",
            "execution_count": 8,
            "metadata": {},
            "outputs": [
                {
                    "data": {
                        "text/plain": "('city', 'Da Nang', 'Da Nang')"
                    },
                    "execution_count": 8,
                    "metadata": {},
                    "output_type": "execute_result"
                }
            ],
            "source": "d[\"headerLocationGranularity\"], d[\"headerLocation\"], d[\"headerFullLocation\"]\n"
        },
        {
            "cell_type": "code",
            "execution_count": 9,
            "metadata": {},
            "outputs": [
                {
                    "data": {
                        "text/plain": "({'ne': {'lat': 16.076950003892705, 'lng': 108.22982675100442},\n  'sw': {'lat': 16.059727142671775, 'lng': 108.21333222890732}},\n 40)"
                    },
                    "execution_count": 9,
                    "metadata": {},
                    "output_type": "execute_result"
                }
            ],
            "source": "d[\"suggestedBounds\"], d[\"totalResults\"]\n"
        },
        {
            "cell_type": "code",
            "execution_count": 10,
            "metadata": {},
            "outputs": [
                {
                    "data": {
                        "text/plain": "{'what': '',\n 'where': 'da nang',\n 'center': {'lat': 16.06778, 'lng': 108.22083},\n 'displayString': 'Da Nang, Th\u00e0nh Ph\u1ed1 \u0110\u00e0 N\u1eb5ng, Vietnam',\n 'cc': 'VN',\n 'geometry': {'bounds': {'ne': {'lat': 16.11072, 'lng': 108.276871},\n   'sw': {'lat': 15.982205, 'lng': 108.141861}}},\n 'slug': 'turan-vietnam',\n 'longId': '72057594039511928'}"
                    },
                    "execution_count": 10,
                    "metadata": {},
                    "output_type": "execute_result"
                }
            ],
            "source": "d[\"geocode\"]\n"
        },
        {
            "cell_type": "code",
            "execution_count": 11,
            "metadata": {},
            "outputs": [
                {
                    "data": {
                        "text/plain": "dict_keys(['type', 'name', 'items'])"
                    },
                    "execution_count": 11,
                    "metadata": {},
                    "output_type": "execute_result"
                }
            ],
            "source": "d[\"groups\"][0].keys()\n"
        },
        {
            "cell_type": "code",
            "execution_count": 12,
            "metadata": {},
            "outputs": [
                {
                    "data": {
                        "text/plain": "('Recommended Places', 'recommended')"
                    },
                    "execution_count": 12,
                    "metadata": {},
                    "output_type": "execute_result"
                }
            ],
            "source": "d[\"groups\"][0][\"type\"], d[\"groups\"][0][\"name\"]\n"
        },
        {
            "cell_type": "code",
            "execution_count": 13,
            "metadata": {},
            "outputs": [
                {
                    "name": "stdout",
                    "output_type": "stream",
                    "text": "number of items: 40\n"
                },
                {
                    "data": {
                        "text/plain": "{'reasons': {'count': 0,\n  'items': [{'summary': 'This spot is popular',\n    'type': 'general',\n    'reasonName': 'globalInteractionReason'}]},\n 'venue': {'id': '5a26a41a31ac6c676705e94c',\n  'name': 'c\u1ed9ng c\u00e0 ph\u00ea',\n  'location': {'address': '39',\n   'crossStreet': 'Nguy\u1ec5n Th\u00e1i H\u1ecdc',\n   'lat': 16.068062879455486,\n   'lng': 108.22351222071603,\n   'labeledLatLngs': [{'label': 'display',\n     'lat': 16.068062879455486,\n     'lng': 108.22351222071603}],\n   'postalCode': '551105',\n   'cc': 'VN',\n   'city': '\u0110\u00e0 N\u1eb5ng',\n   'state': 'Th\u00e0nh Ph\u1ed1 \u0110\u00e0 N\u1eb5ng',\n   'country': 'Vi\u1ec7t Nam',\n   'formattedAddress': ['39 (Nguy\u1ec5n Th\u00e1i H\u1ecdc)',\n    '\u0110\u00e0 N\u1eb5ng',\n    'Th\u00e0nh Ph\u1ed1 \u0110\u00e0 N\u1eb5ng',\n    'Vi\u1ec7t Nam']},\n  'categories': [{'id': '4bf58dd8d48988d1e0931735',\n    'name': 'Coffee Shop',\n    'pluralName': 'Coffee Shops',\n    'shortName': 'Coffee Shop',\n    'icon': {'prefix': 'https://ss3.4sqi.net/img/categories_v2/food/coffeeshop_',\n     'suffix': '.png'},\n    'primary': True}],\n  'photos': {'count': 0, 'groups': []}},\n 'referralId': 'e-5-5a26a41a31ac6c676705e94c-0'}"
                    },
                    "execution_count": 13,
                    "metadata": {},
                    "output_type": "execute_result"
                }
            ],
            "source": "items = d[\"groups\"][0][\"items\"]\nprint(\"number of items: %i\" % len(items))\nitems[0]\n"
        },
        {
            "cell_type": "code",
            "execution_count": 16,
            "metadata": {},
            "outputs": [
                {
                    "data": {
                        "text/plain": "{'reasons': {'count': 0,\n  'items': [{'summary': 'This spot is popular',\n    'type': 'general',\n    'reasonName': 'globalInteractionReason'}]},\n 'venue': {'id': '4d4361d01928a35daba1ad70',\n  'name': 'Ph\u1ed1 X\u01b0a',\n  'location': {'address': '17 Phan \u0110\u00ecnh Ph\u00f9ng',\n   'lat': 16.070069923328905,\n   'lng': 108.2234060288238,\n   'labeledLatLngs': [{'label': 'display',\n     'lat': 16.070069923328905,\n     'lng': 108.2234060288238}],\n   'cc': 'VN',\n   'city': 'H\u1ea3i Ch\u00e2u',\n   'state': 'Th\u00e0nh Ph\u1ed1 \u0110\u00e0 N\u1eb5ng',\n   'country': 'Vi\u1ec7t Nam',\n   'formattedAddress': ['17 Phan \u0110\u00ecnh Ph\u00f9ng',\n    'H\u1ea3i Ch\u00e2u',\n    'Th\u00e0nh Ph\u1ed1 \u0110\u00e0 N\u1eb5ng',\n    'Vi\u1ec7t Nam']},\n  'categories': [{'id': '4bf58dd8d48988d1e0931735',\n    'name': 'Coffee Shop',\n    'pluralName': 'Coffee Shops',\n    'shortName': 'Coffee Shop',\n    'icon': {'prefix': 'https://ss3.4sqi.net/img/categories_v2/food/coffeeshop_',\n     'suffix': '.png'},\n    'primary': True}],\n  'photos': {'count': 0, 'groups': []}},\n 'referralId': 'e-5-4d4361d01928a35daba1ad70-1'}"
                    },
                    "execution_count": 16,
                    "metadata": {},
                    "output_type": "execute_result"
                }
            ],
            "source": "items[1]"
        },
        {
            "cell_type": "code",
            "execution_count": 18,
            "metadata": {},
            "outputs": [
                {
                    "name": "stdout",
                    "output_type": "stream",
                    "text": "{'address': '39', 'crossStreet': 'Nguy\u1ec5n Th\u00e1i H\u1ecdc', 'lat': 16.068062879455486, 'lng': 108.22351222071603, 'labeledLatLngs': [{'label': 'display', 'lat': 16.068062879455486, 'lng': 108.22351222071603}], 'postalCode': '551105', 'cc': 'VN', 'city': '\u0110\u00e0 N\u1eb5ng', 'state': 'Th\u00e0nh Ph\u1ed1 \u0110\u00e0 N\u1eb5ng', 'country': 'Vi\u1ec7t Nam', 'formattedAddress': ['39 (Nguy\u1ec5n Th\u00e1i H\u1ecdc)', '\u0110\u00e0 N\u1eb5ng', 'Th\u00e0nh Ph\u1ed1 \u0110\u00e0 N\u1eb5ng', 'Vi\u1ec7t Nam']}\n{'address': '17 Phan \u0110\u00ecnh Ph\u00f9ng', 'lat': 16.070069923328905, 'lng': 108.2234060288238, 'labeledLatLngs': [{'label': 'display', 'lat': 16.070069923328905, 'lng': 108.2234060288238}], 'cc': 'VN', 'city': 'H\u1ea3i Ch\u00e2u', 'state': 'Th\u00e0nh Ph\u1ed1 \u0110\u00e0 N\u1eb5ng', 'country': 'Vi\u1ec7t Nam', 'formattedAddress': ['17 Phan \u0110\u00ecnh Ph\u00f9ng', 'H\u1ea3i Ch\u00e2u', 'Th\u00e0nh Ph\u1ed1 \u0110\u00e0 N\u1eb5ng', 'Vi\u1ec7t Nam']}\n{'address': '37-39 Pasteur', 'lat': 16.069698707615007, 'lng': 108.21804495108044, 'labeledLatLngs': [{'label': 'display', 'lat': 16.069698707615007, 'lng': 108.21804495108044}], 'cc': 'VN', 'city': '\u0110\u00e0 N\u1eb5ng', 'state': 'Th\u00e0nh Ph\u1ed1 \u0110\u00e0 N\u1eb5ng', 'country': 'Vi\u1ec7t Nam', 'formattedAddress': ['37-39 Pasteur', '\u0110\u00e0 N\u1eb5ng', 'Th\u00e0nh Ph\u1ed1 \u0110\u00e0 N\u1eb5ng', 'Vi\u1ec7t Nam']}\n{'address': '58', 'crossStreet': 'Ho\u00e0ng V\u0103n Th\u1ee5. H\u1ea3i Ch\u00e2u', 'lat': 16.06328567930564, 'lng': 108.22068421206521, 'labeledLatLngs': [{'label': 'display', 'lat': 16.06328567930564, 'lng': 108.22068421206521}], 'cc': 'VN', 'neighborhood': 'H\u1ea3i Ch\u00e2u', 'city': '\u0110\u00e0 N\u1eb5ng', 'state': 'Th\u00e0nh Ph\u1ed1 \u0110\u00e0 N\u1eb5ng', 'country': 'Vi\u1ec7t Nam', 'formattedAddress': ['58 (Ho\u00e0ng V\u0103n Th\u1ee5. H\u1ea3i Ch\u00e2u)', '\u0110\u00e0 N\u1eb5ng', 'Th\u00e0nh Ph\u1ed1 \u0110\u00e0 N\u1eb5ng', 'Vi\u1ec7t Nam']}\n{'address': '134 Phan Chau Trinh', 'lat': 16.063847858621482, 'lng': 108.21989220791667, 'labeledLatLngs': [{'label': 'display', 'lat': 16.063847858621482, 'lng': 108.21989220791667}], 'cc': 'VN', 'city': '\u0110\u00e0 N\u1eb5ng', 'state': 'Th\u00e0nh Ph\u1ed1 \u0110\u00e0 N\u1eb5ng', 'country': 'Vi\u1ec7t Nam', 'formattedAddress': ['134 Phan Chau Trinh', '\u0110\u00e0 N\u1eb5ng', 'Th\u00e0nh Ph\u1ed1 \u0110\u00e0 N\u1eb5ng', 'Vi\u1ec7t Nam']}\n{'address': '96-98 B\u1ea1ch \u0110\u1eb1ng', 'lat': 16.069014884488677, 'lng': 108.22497088340684, 'labeledLatLngs': [{'label': 'display', 'lat': 16.069014884488677, 'lng': 108.22497088340684}], 'cc': 'VN', 'city': '\u0110\u00e0 N\u1eb5ng', 'state': 'Th\u00e0nh Ph\u1ed1 \u0110\u00e0 N\u1eb5ng', 'country': 'Vi\u1ec7t Nam', 'formattedAddress': ['96-98 B\u1ea1ch \u0110\u1eb1ng', '\u0110\u00e0 N\u1eb5ng', 'Th\u00e0nh Ph\u1ed1 \u0110\u00e0 N\u1eb5ng', 'Vi\u1ec7t Nam']}\n{'lat': 16.066373, 'lng': 108.220971, 'labeledLatLngs': [{'label': 'display', 'lat': 16.066373, 'lng': 108.220971}], 'cc': 'VN', 'country': 'Vi\u1ec7t Nam', 'formattedAddress': ['Vi\u1ec7t Nam']}\n{'address': '146 Bach Dang St', 'lat': 16.06702, 'lng': 108.22479, 'labeledLatLngs': [{'label': 'display', 'lat': 16.06702, 'lng': 108.22479}], 'postalCode': '550000', 'cc': 'VN', 'city': 'H\u1ea3i Ch\u00e2u 1', 'state': 'Th\u00e0nh Ph\u1ed1 \u0110\u00e0 N\u1eb5ng', 'country': 'Vi\u1ec7t Nam', 'formattedAddress': ['146 Bach Dang St', 'H\u1ea3i Ch\u00e2u 1', 'Th\u00e0nh Ph\u1ed1 \u0110\u00e0 N\u1eb5ng', 'Vi\u1ec7t Nam']}\n{'address': '79 Le Hong Phong', 'lat': 16.064163367156592, 'lng': 108.21928138013452, 'labeledLatLngs': [{'label': 'display', 'lat': 16.064163367156592, 'lng': 108.21928138013452}], 'cc': 'VN', 'city': '\u0110\u00e0 N\u1eb5ng', 'state': 'Th\u00e0nh Ph\u1ed1 \u0110\u00e0 N\u1eb5ng', 'country': 'Vi\u1ec7t Nam', 'formattedAddress': ['79 Le Hong Phong', '\u0110\u00e0 N\u1eb5ng', 'Th\u00e0nh Ph\u1ed1 \u0110\u00e0 N\u1eb5ng', 'Vi\u1ec7t Nam']}\n{'address': '186 Bach Dang', 'crossStreet': 'Tran Quoc Toan', 'lat': 16.06608485359888, 'lng': 108.2243266366388, 'labeledLatLngs': [{'label': 'display', 'lat': 16.06608485359888, 'lng': 108.2243266366388}], 'cc': 'VN', 'city': '\u0110\u00e0 N\u1eb5ng', 'state': 'Th\u00e0nh Ph\u1ed1 \u0110\u00e0 N\u1eb5ng', 'country': 'Vi\u1ec7t Nam', 'formattedAddress': ['186 Bach Dang (Tran Quoc Toan)', '\u0110\u00e0 N\u1eb5ng', 'Th\u00e0nh Ph\u1ed1 \u0110\u00e0 N\u1eb5ng', 'Vi\u1ec7t Nam']}\n{'address': 'L\u00f4 A4 - 2 Nguy\u1ec5n V\u0103n Linh', 'lat': 16.06079455709096, 'lng': 108.22346985340118, 'labeledLatLngs': [{'label': 'display', 'lat': 16.06079455709096, 'lng': 108.22346985340118}], 'cc': 'VN', 'city': '\u0110\u00e0 N\u1eb5ng', 'state': 'Th\u00e0nh Ph\u1ed1 \u0110\u00e0 N\u1eb5ng', 'country': 'Vi\u1ec7t Nam', 'formattedAddress': ['L\u00f4 A4 - 2 Nguy\u1ec5n V\u0103n Linh', '\u0110\u00e0 N\u1eb5ng', 'Th\u00e0nh Ph\u1ed1 \u0110\u00e0 N\u1eb5ng', 'Vi\u1ec7t Nam']}\n{'address': '1 Nguyen Van Linh', 'lat': 16.06064813996494, 'lng': 108.2169811846068, 'labeledLatLngs': [{'label': 'display', 'lat': 16.06064813996494, 'lng': 108.2169811846068}], 'cc': 'VN', 'city': '\u0110\u00e0 N\u1eb5ng', 'state': 'Th\u00e0nh Ph\u1ed1 \u0110\u00e0 N\u1eb5ng', 'country': 'Vi\u1ec7t Nam', 'formattedAddress': ['1 Nguyen Van Linh', '\u0110\u00e0 N\u1eb5ng', 'Th\u00e0nh Ph\u1ed1 \u0110\u00e0 N\u1eb5ng', 'Vi\u1ec7t Nam']}\n{'address': '180A Bach Dang Street, Hai Chau 1 Ward, Hai Chau District', 'crossStreet': 'Tran Quoc Toan', 'lat': 16.066268104610995, 'lng': 108.22449579896868, 'labeledLatLngs': [{'label': 'display', 'lat': 16.066268104610995, 'lng': 108.22449579896868}], 'postalCode': '550000', 'cc': 'VN', 'city': '\u0110\u00e0 N\u1eb5ng', 'state': 'Th\u00e0nh Ph\u1ed1 \u0110\u00e0 N\u1eb5ng', 'country': 'Vi\u1ec7t Nam', 'formattedAddress': ['180A Bach Dang Street, Hai Chau 1 Ward, Hai Chau District (Tran Quoc Toan)', '\u0110\u00e0 N\u1eb5ng', 'Th\u00e0nh Ph\u1ed1 \u0110\u00e0 N\u1eb5ng', 'Vi\u1ec7t Nam']}\n{'address': '9 Quang Trung', 'crossStreet': 'Tran Phu', 'lat': 16.07534538869973, 'lng': 108.22224273760446, 'labeledLatLngs': [{'label': 'display', 'lat': 16.07534538869973, 'lng': 108.22224273760446}], 'cc': 'VN', 'city': '\u0110\u00e0 N\u1eb5ng', 'state': 'Th\u00e0nh Ph\u1ed1 \u0110\u00e0 N\u1eb5ng', 'country': 'Vi\u1ec7t Nam', 'formattedAddress': ['9 Quang Trung (Tran Phu)', '\u0110\u00e0 N\u1eb5ng', 'Th\u00e0nh Ph\u1ed1 \u0110\u00e0 N\u1eb5ng', 'Vi\u1ec7t Nam']}\n{'address': '74 Bach Dang', 'crossStreet': 'Phan Dinh Phung', 'lat': 16.0699462321021, 'lng': 108.22496141517442, 'labeledLatLngs': [{'label': 'display', 'lat': 16.0699462321021, 'lng': 108.22496141517442}], 'postalCode': '60999', 'cc': 'VN', 'city': 'D\u00e0 Nang City', 'state': 'Da Nang', 'country': 'Vi\u1ec7t Nam', 'formattedAddress': ['74 Bach Dang (Phan Dinh Phung)', 'D\u00e0 Nang City', 'Da Nang', 'Vi\u1ec7t Nam']}\n{'address': '101 Trr\u1ea7n Ph\u00fa', 'lat': 16.06909601096204, 'lng': 108.22396568330407, 'labeledLatLngs': [{'label': 'display', 'lat': 16.06909601096204, 'lng': 108.22396568330407}], 'cc': 'VN', 'city': '\u0110\u00e0 N\u1eb5ng', 'state': 'Th\u00e0nh Ph\u1ed1 \u0110\u00e0 N\u1eb5ng', 'country': 'Vi\u1ec7t Nam', 'formattedAddress': ['101 Trr\u1ea7n Ph\u00fa', '\u0110\u00e0 N\u1eb5ng', 'Th\u00e0nh Ph\u1ed1 \u0110\u00e0 N\u1eb5ng', 'Vi\u1ec7t Nam']}\n{'address': 'Le Loi', 'crossStreet': 'Le Loi', 'lat': 16.072559472418, 'lng': 108.22037004752178, 'labeledLatLngs': [{'label': 'display', 'lat': 16.072559472418, 'lng': 108.22037004752178}], 'cc': 'VN', 'country': 'Vi\u1ec7t Nam', 'formattedAddress': ['Le Loi (Le Loi)', 'Vi\u1ec7t Nam']}\n{'address': '32 C\u00f4 Giang, Ph\u01b0\u1edbc Ninh, H\u1ea3i Ch\u00e2u, Da Nang', 'lat': 16.06163998148517, 'lng': 108.22152256965637, 'labeledLatLngs': [{'label': 'display', 'lat': 16.06163998148517, 'lng': 108.22152256965637}], 'cc': 'VN', 'state': 'Th\u00e0nh Ph\u1ed1 \u0110\u00e0 N\u1eb5ng', 'country': 'Vi\u1ec7t Nam', 'formattedAddress': ['32 C\u00f4 Giang, Ph\u01b0\u1edbc Ninh, H\u1ea3i Ch\u00e2u, Da Nang', 'Th\u00e0nh Ph\u1ed1 \u0110\u00e0 N\u1eb5ng', 'Vi\u1ec7t Nam']}\n{'address': '50 B\u1ea1ch \u0110\u1eb1ng', 'lat': 16.073066369057457, 'lng': 108.22466120300325, 'labeledLatLngs': [{'label': 'display', 'lat': 16.073066369057457, 'lng': 108.22466120300325}], 'cc': 'VN', 'city': '\u0110\u00e0 N\u1eb5ng', 'state': 'Th\u00e0nh Ph\u1ed1 \u0110\u00e0 N\u1eb5ng', 'country': 'Vi\u1ec7t Nam', 'formattedAddress': ['50 B\u1ea1ch \u0110\u1eb1ng', '\u0110\u00e0 N\u1eb5ng', 'Th\u00e0nh Ph\u1ed1 \u0110\u00e0 N\u1eb5ng', 'Vi\u1ec7t Nam']}\n{'address': 'L\u00ea \u0110\u00ecnh D\u01b0\u01a1ng, H\u1ea3i Ch\u00e2u, Da Nang', 'lat': 16.061322248017326, 'lng': 108.21981112190863, 'labeledLatLngs': [{'label': 'display', 'lat': 16.061322248017326, 'lng': 108.21981112190863}], 'cc': 'VN', 'city': '\u0110\u00e0 N\u1eb5ng', 'state': 'Th\u00e0nh Ph\u1ed1 \u0110\u00e0 N\u1eb5ng', 'country': 'Vi\u1ec7t Nam', 'formattedAddress': ['L\u00ea \u0110\u00ecnh D\u01b0\u01a1ng, H\u1ea3i Ch\u00e2u, Da Nang', '\u0110\u00e0 N\u1eb5ng', 'Th\u00e0nh Ph\u1ed1 \u0110\u00e0 N\u1eb5ng', 'Vi\u1ec7t Nam']}\n{'address': '88', 'crossStreet': 'Nguy\u1ec5n Ch\u00ed Thanh', 'lat': 16.07085130717108, 'lng': 108.22122981692984, 'labeledLatLngs': [{'label': 'display', 'lat': 16.07085130717108, 'lng': 108.22122981692984}], 'postalCode': '550000', 'cc': 'VN', 'city': '\u0110\u00e0 N\u1eb5ng', 'state': 'Th\u00e0nh Ph\u1ed1 \u0110\u00e0 N\u1eb5ng', 'country': 'Vi\u1ec7t Nam', 'formattedAddress': ['88 (Nguy\u1ec5n Ch\u00ed Thanh)', '\u0110\u00e0 N\u1eb5ng', 'Th\u00e0nh Ph\u1ed1 \u0110\u00e0 N\u1eb5ng', 'Vi\u1ec7t Nam']}\n{'address': '\u00d4ng \u00cdch Khi\u00eam', 'crossStreet': 'Hung Vuong', 'lat': 16.066948386992838, 'lng': 108.21408197991173, 'labeledLatLngs': [{'label': 'display', 'lat': 16.066948386992838, 'lng': 108.21408197991173}], 'cc': 'VN', 'city': 'D\u00e0 Nang', 'state': 'Da Nang', 'country': 'Vi\u1ec7t Nam', 'formattedAddress': ['\u00d4ng \u00cdch Khi\u00eam (Hung Vuong)', 'D\u00e0 Nang', 'Da Nang', 'Vi\u1ec7t Nam']}\n{'address': 'Quang Trung', 'lat': 16.07486200847801, 'lng': 108.22006134589006, 'labeledLatLngs': [{'label': 'display', 'lat': 16.07486200847801, 'lng': 108.22006134589006}], 'cc': 'VN', 'state': 'Da Nang', 'country': 'Vi\u1ec7t Nam', 'formattedAddress': ['Quang Trung', 'Da Nang', 'Vi\u1ec7t Nam']}\n{'lat': 16.06996318177183, 'lng': 108.2188438832465, 'labeledLatLngs': [{'label': 'display', 'lat': 16.06996318177183, 'lng': 108.2188438832465}], 'cc': 'VN', 'country': 'Vi\u1ec7t Nam', 'formattedAddress': ['Vi\u1ec7t Nam']}\n{'address': '182 B\u1ea1ch \u0110\u1eb1ng', 'lat': 16.066143039784986, 'lng': 108.22450256027052, 'labeledLatLngs': [{'label': 'display', 'lat': 16.066143039784986, 'lng': 108.22450256027052}], 'cc': 'VN', 'city': '\u0110\u00e0 N\u1eb5ng', 'state': 'Th\u00e0nh Ph\u1ed1 \u0110\u00e0 N\u1eb5ng', 'country': 'Vi\u1ec7t Nam', 'formattedAddress': ['182 B\u1ea1ch \u0110\u1eb1ng', '\u0110\u00e0 N\u1eb5ng', 'Th\u00e0nh Ph\u1ed1 \u0110\u00e0 N\u1eb5ng', 'Vi\u1ec7t Nam']}\n{'address': '96-98 Bach Dang', 'lat': 16.0690205040415, 'lng': 108.22498908371713, 'labeledLatLngs': [{'label': 'display', 'lat': 16.0690205040415, 'lng': 108.22498908371713}], 'cc': 'VN', 'state': 'Da Nang', 'country': 'Vi\u1ec7t Nam', 'formattedAddress': ['96-98 Bach Dang', 'Da Nang', 'Vi\u1ec7t Nam']}\n{'address': '91', 'crossStreet': 'L\u00ea H\u1ed3ng Phong', 'lat': 16.064031894461532, 'lng': 108.21869015693665, 'labeledLatLngs': [{'label': 'display', 'lat': 16.064031894461532, 'lng': 108.21869015693665}], 'postalCode': '0511', 'cc': 'VN', 'city': '\u0110\u00e0 N\u1eb5ng', 'state': 'Th\u00e0nh Ph\u1ed1 \u0110\u00e0 N\u1eb5ng', 'country': 'Vi\u1ec7t Nam', 'formattedAddress': ['91 (L\u00ea H\u1ed3ng Phong)', '\u0110\u00e0 N\u1eb5ng', 'Th\u00e0nh Ph\u1ed1 \u0110\u00e0 N\u1eb5ng', 'Vi\u1ec7t Nam']}\n{'address': 'Le Hong Phong - Da Nang', 'lat': 16.06367059719038, 'lng': 108.22347738827133, 'labeledLatLngs': [{'label': 'display', 'lat': 16.06367059719038, 'lng': 108.22347738827133}], 'cc': 'VN', 'country': 'Vi\u1ec7t Nam', 'formattedAddress': ['Le Hong Phong - Da Nang', 'Vi\u1ec7t Nam']}\n{'address': 'Bach Dang', 'crossStreet': 'under Han River Bridge', 'lat': 16.072871723022736, 'lng': 108.2251196519525, 'labeledLatLngs': [{'label': 'display', 'lat': 16.072871723022736, 'lng': 108.2251196519525}], 'cc': 'VN', 'city': '\u0110\u00e0 N\u1eb5ng', 'state': 'Th\u00e0nh Ph\u1ed1 \u0110\u00e0 N\u1eb5ng', 'country': 'Vi\u1ec7t Nam', 'formattedAddress': ['Bach Dang (under Han River Bridge)', '\u0110\u00e0 N\u1eb5ng', 'Th\u00e0nh Ph\u1ed1 \u0110\u00e0 N\u1eb5ng', 'Vi\u1ec7t Nam']}\n{'address': '254 Tran Phu', 'lat': 16.062591, 'lng': 108.223215, 'labeledLatLngs': [{'label': 'display', 'lat': 16.062591, 'lng': 108.223215}], 'cc': 'VN', 'city': 'Da Nang', 'state': 'Hai Chau', 'country': 'Vi\u1ec7t Nam', 'formattedAddress': ['254 Tran Phu', 'Da Nang', 'Hai Chau', 'Vi\u1ec7t Nam']}\n{'address': '156 Le Dinh Duong', 'crossStreet': 'Trieu Nu Vuong', 'lat': 16.062463396498668, 'lng': 108.21678225824697, 'labeledLatLngs': [{'label': 'display', 'lat': 16.062463396498668, 'lng': 108.21678225824697}], 'cc': 'VN', 'city': '\u0110\u00e0 N\u1eb5ng', 'state': 'Th\u00e0nh Ph\u1ed1 \u0110\u00e0 N\u1eb5ng', 'country': 'Vi\u1ec7t Nam', 'formattedAddress': ['156 Le Dinh Duong (Trieu Nu Vuong)', '\u0110\u00e0 N\u1eb5ng', 'Th\u00e0nh Ph\u1ed1 \u0110\u00e0 N\u1eb5ng', 'Vi\u1ec7t Nam']}\n{'lat': 16.060794905109915, 'lng': 108.22040768373152, 'labeledLatLngs': [{'label': 'display', 'lat': 16.060794905109915, 'lng': 108.22040768373152}], 'cc': 'VN', 'country': 'Vi\u1ec7t Nam', 'formattedAddress': ['Vi\u1ec7t Nam']}\n{'address': '59-61 Nguyen Van Linh, Hai Chau', 'lat': 16.06065, 'lng': 108.22036, 'labeledLatLngs': [{'label': 'display', 'lat': 16.06065, 'lng': 108.22036}], 'cc': 'VN', 'city': 'B\u00ecnh Hi\u00ean', 'state': 'Th\u00e0nh Ph\u1ed1 \u0110\u00e0 N\u1eb5ng', 'country': 'Vi\u1ec7t Nam', 'formattedAddress': ['59-61 Nguyen Van Linh, Hai Chau', 'B\u00ecnh Hi\u00ean', 'Th\u00e0nh Ph\u1ed1 \u0110\u00e0 N\u1eb5ng', 'Vi\u1ec7t Nam']}\n{'address': '122 Quang Trung', 'lat': 16.074175, 'lng': 108.21683, 'labeledLatLngs': [{'label': 'display', 'lat': 16.074175, 'lng': 108.21683}], 'cc': 'VN', 'city': '\u0110\u00e0 N\u1eb5ng', 'state': 'Th\u00e0nh Ph\u1ed1 \u0110\u00e0 N\u1eb5ng', 'country': 'Vi\u1ec7t Nam', 'formattedAddress': ['122 Quang Trung', '\u0110\u00e0 N\u1eb5ng', 'Th\u00e0nh Ph\u1ed1 \u0110\u00e0 N\u1eb5ng', 'Vi\u1ec7t Nam']}\n{'lat': 16.07550910076423, 'lng': 108.21971266035493, 'labeledLatLngs': [{'label': 'display', 'lat': 16.07550910076423, 'lng': 108.21971266035493}], 'cc': 'VN', 'country': 'Vi\u1ec7t Nam', 'formattedAddress': ['Vi\u1ec7t Nam']}\n{'address': '109 Le Loi', 'lat': 16.075608142628063, 'lng': 108.21978263867429, 'labeledLatLngs': [{'label': 'display', 'lat': 16.075608142628063, 'lng': 108.21978263867429}], 'postalCode': 'Viet Nam', 'cc': 'VN', 'city': 'Hai Chau', 'state': 'Da Nang', 'country': 'Vi\u1ec7t Nam', 'formattedAddress': ['109 Le Loi', 'Hai Chau', 'Da Nang', 'Vi\u1ec7t Nam']}\n{'address': 'Nguy\u1ec5n V\u0103n Linh', 'lat': 16.060564393091386, 'lng': 108.2170831688409, 'labeledLatLngs': [{'label': 'display', 'lat': 16.060564393091386, 'lng': 108.2170831688409}], 'cc': 'VN', 'city': '\u0110\u00e0 N\u1eb5ng', 'state': 'Th\u00e0nh Ph\u1ed1 \u0110\u00e0 N\u1eb5ng', 'country': 'Vi\u1ec7t Nam', 'formattedAddress': ['Nguy\u1ec5n V\u0103n Linh', '\u0110\u00e0 N\u1eb5ng', 'Th\u00e0nh Ph\u1ed1 \u0110\u00e0 N\u1eb5ng', 'Vi\u1ec7t Nam']}\n{'lat': 16.06051, 'lng': 108.21709, 'labeledLatLngs': [{'label': 'display', 'lat': 16.06051, 'lng': 108.21709}], 'cc': 'VN', 'country': 'Vi\u1ec7t Nam', 'formattedAddress': ['Vi\u1ec7t Nam']}\n{'address': '69 Nguy\u1ec5n Ch\u00ed Thanh', 'lat': 16.07616714656448, 'lng': 108.22046560241405, 'labeledLatLngs': [{'label': 'display', 'lat': 16.07616714656448, 'lng': 108.22046560241405}], 'cc': 'VN', 'city': '\u0110\u00e0 N\u1eb5ng', 'state': 'Th\u00e0nh Ph\u1ed1 \u0110\u00e0 N\u1eb5ng', 'country': 'Vi\u1ec7t Nam', 'formattedAddress': ['69 Nguy\u1ec5n Ch\u00ed Thanh', '\u0110\u00e0 N\u1eb5ng', 'Th\u00e0nh Ph\u1ed1 \u0110\u00e0 N\u1eb5ng', 'Vi\u1ec7t Nam']}\n{'address': '339 Tran Hung Dao', 'lat': 16.071583, 'lng': 108.229077, 'labeledLatLngs': [{'label': 'display', 'lat': 16.071583, 'lng': 108.229077}], 'cc': 'VN', 'city': '\u0110\u00e0 N\u1eb5ng', 'state': 'Th\u00e0nh Ph\u1ed1 \u0110\u00e0 N\u1eb5ng', 'country': 'Vi\u1ec7t Nam', 'formattedAddress': ['339 Tran Hung Dao', '\u0110\u00e0 N\u1eb5ng', 'Th\u00e0nh Ph\u1ed1 \u0110\u00e0 N\u1eb5ng', 'Vi\u1ec7t Nam']}\nfound 7 cafes\n"
                },
                {
                    "ename": "AttributeError",
                    "evalue": "'NoneType' object has no attribute 'items'",
                    "output_type": "error",
                    "traceback": [
                        "\u001b[0;31m---------------------------------------------------------------------------\u001b[0m",
                        "\u001b[0;31mAttributeError\u001b[0m                            Traceback (most recent call last)",
                        "\u001b[0;32m/opt/conda/envs/Python-3.7-main/lib/python3.7/site-packages/IPython/core/formatters.py\u001b[0m in \u001b[0;36m__call__\u001b[0;34m(self, obj)\u001b[0m\n\u001b[1;32m    343\u001b[0m             \u001b[0mmethod\u001b[0m \u001b[0;34m=\u001b[0m \u001b[0mget_real_method\u001b[0m\u001b[0;34m(\u001b[0m\u001b[0mobj\u001b[0m\u001b[0;34m,\u001b[0m \u001b[0mself\u001b[0m\u001b[0;34m.\u001b[0m\u001b[0mprint_method\u001b[0m\u001b[0;34m)\u001b[0m\u001b[0;34m\u001b[0m\u001b[0;34m\u001b[0m\u001b[0m\n\u001b[1;32m    344\u001b[0m             \u001b[0;32mif\u001b[0m \u001b[0mmethod\u001b[0m \u001b[0;32mis\u001b[0m \u001b[0;32mnot\u001b[0m \u001b[0;32mNone\u001b[0m\u001b[0;34m:\u001b[0m\u001b[0;34m\u001b[0m\u001b[0;34m\u001b[0m\u001b[0m\n\u001b[0;32m--> 345\u001b[0;31m                 \u001b[0;32mreturn\u001b[0m \u001b[0mmethod\u001b[0m\u001b[0;34m(\u001b[0m\u001b[0;34m)\u001b[0m\u001b[0;34m\u001b[0m\u001b[0;34m\u001b[0m\u001b[0m\n\u001b[0m\u001b[1;32m    346\u001b[0m             \u001b[0;32mreturn\u001b[0m \u001b[0;32mNone\u001b[0m\u001b[0;34m\u001b[0m\u001b[0;34m\u001b[0m\u001b[0m\n\u001b[1;32m    347\u001b[0m         \u001b[0;32melse\u001b[0m\u001b[0;34m:\u001b[0m\u001b[0;34m\u001b[0m\u001b[0;34m\u001b[0m\u001b[0m\n",
                        "\u001b[0;32m/opt/conda/envs/Python-3.7-main/lib/python3.7/site-packages/pandas/core/frame.py\u001b[0m in \u001b[0;36m_repr_html_\u001b[0;34m(self)\u001b[0m\n\u001b[1;32m    732\u001b[0m         \u001b[0mGH3541\u001b[0m\u001b[0;34m,\u001b[0m \u001b[0mGH3573\u001b[0m\u001b[0;34m\u001b[0m\u001b[0;34m\u001b[0m\u001b[0m\n\u001b[1;32m    733\u001b[0m         \"\"\"\n\u001b[0;32m--> 734\u001b[0;31m         \u001b[0mwidth\u001b[0m\u001b[0;34m,\u001b[0m \u001b[0mheight\u001b[0m \u001b[0;34m=\u001b[0m \u001b[0mconsole\u001b[0m\u001b[0;34m.\u001b[0m\u001b[0mget_console_size\u001b[0m\u001b[0;34m(\u001b[0m\u001b[0;34m)\u001b[0m\u001b[0;34m\u001b[0m\u001b[0;34m\u001b[0m\u001b[0m\n\u001b[0m\u001b[1;32m    735\u001b[0m         \u001b[0mmax_columns\u001b[0m \u001b[0;34m=\u001b[0m \u001b[0mget_option\u001b[0m\u001b[0;34m(\u001b[0m\u001b[0;34m\"display.max_columns\"\u001b[0m\u001b[0;34m)\u001b[0m\u001b[0;34m\u001b[0m\u001b[0;34m\u001b[0m\u001b[0m\n\u001b[1;32m    736\u001b[0m         \u001b[0mnb_columns\u001b[0m \u001b[0;34m=\u001b[0m \u001b[0mlen\u001b[0m\u001b[0;34m(\u001b[0m\u001b[0mself\u001b[0m\u001b[0;34m.\u001b[0m\u001b[0mcolumns\u001b[0m\u001b[0;34m)\u001b[0m\u001b[0;34m\u001b[0m\u001b[0;34m\u001b[0m\u001b[0m\n",
                        "\u001b[0;32m/opt/conda/envs/Python-3.7-main/lib/python3.7/site-packages/pandas/io/formats/format.py\u001b[0m in \u001b[0;36mto_html\u001b[0;34m(self, buf, encoding, classes, notebook, border)\u001b[0m\n\u001b[1;32m    980\u001b[0m             \u001b[0mBuffer\u001b[0m \u001b[0mto\u001b[0m \u001b[0mwrite\u001b[0m \u001b[0mto\u001b[0m\u001b[0;34m.\u001b[0m \u001b[0mIf\u001b[0m \u001b[0;32mNone\u001b[0m\u001b[0;34m,\u001b[0m \u001b[0mthe\u001b[0m \u001b[0moutput\u001b[0m \u001b[0;32mis\u001b[0m \u001b[0mreturned\u001b[0m \u001b[0;32mas\u001b[0m \u001b[0ma\u001b[0m \u001b[0mstring\u001b[0m\u001b[0;34m.\u001b[0m\u001b[0;34m\u001b[0m\u001b[0;34m\u001b[0m\u001b[0m\n\u001b[1;32m    981\u001b[0m         \u001b[0mencoding\u001b[0m \u001b[0;34m:\u001b[0m \u001b[0mstr\u001b[0m\u001b[0;34m,\u001b[0m \u001b[0mdefault\u001b[0m\u001b[0;31m \u001b[0m\u001b[0;31m\u201c\u001b[0m\u001b[0mutf\u001b[0m\u001b[0;34m-\u001b[0m\u001b[0;36m8\u001b[0m\u001b[0;31m\u201d\u001b[0m\u001b[0;34m\u001b[0m\u001b[0;34m\u001b[0m\u001b[0m\n\u001b[0;32m--> 982\u001b[0;31m             \u001b[0mSet\u001b[0m \u001b[0mcharacter\u001b[0m \u001b[0mencoding\u001b[0m\u001b[0;34m.\u001b[0m\u001b[0;34m\u001b[0m\u001b[0;34m\u001b[0m\u001b[0m\n\u001b[0m\u001b[1;32m    983\u001b[0m         \u001b[0mclasses\u001b[0m \u001b[0;34m:\u001b[0m \u001b[0mstr\u001b[0m \u001b[0;32mor\u001b[0m \u001b[0mlist\u001b[0m\u001b[0;34m-\u001b[0m\u001b[0mlike\u001b[0m\u001b[0;34m\u001b[0m\u001b[0;34m\u001b[0m\u001b[0m\n\u001b[1;32m    984\u001b[0m             \u001b[0mclasses\u001b[0m \u001b[0mto\u001b[0m \u001b[0minclude\u001b[0m \u001b[0;32min\u001b[0m \u001b[0mthe\u001b[0m\u001b[0;31m \u001b[0m\u001b[0;31m`\u001b[0m\u001b[0;32mclass\u001b[0m\u001b[0;31m`\u001b[0m \u001b[0mattribute\u001b[0m \u001b[0mof\u001b[0m \u001b[0mthe\u001b[0m \u001b[0mopening\u001b[0m\u001b[0;34m\u001b[0m\u001b[0;34m\u001b[0m\u001b[0m\n",
                        "\u001b[0;32m/opt/conda/envs/Python-3.7-main/lib/python3.7/site-packages/pandas/io/formats/html.py\u001b[0m in \u001b[0;36m__init__\u001b[0;34m(self, formatter, classes, border, table_id, render_links)\u001b[0m\n\u001b[1;32m     54\u001b[0m         self.col_space = {\n\u001b[1;32m     55\u001b[0m             \u001b[0mcolumn\u001b[0m\u001b[0;34m:\u001b[0m \u001b[0;34mf\"{value}px\"\u001b[0m \u001b[0;32mif\u001b[0m \u001b[0misinstance\u001b[0m\u001b[0;34m(\u001b[0m\u001b[0mvalue\u001b[0m\u001b[0;34m,\u001b[0m \u001b[0mint\u001b[0m\u001b[0;34m)\u001b[0m \u001b[0;32melse\u001b[0m \u001b[0mvalue\u001b[0m\u001b[0;34m\u001b[0m\u001b[0;34m\u001b[0m\u001b[0m\n\u001b[0;32m---> 56\u001b[0;31m             \u001b[0;32mfor\u001b[0m \u001b[0mcolumn\u001b[0m\u001b[0;34m,\u001b[0m \u001b[0mvalue\u001b[0m \u001b[0;32min\u001b[0m \u001b[0mself\u001b[0m\u001b[0;34m.\u001b[0m\u001b[0mfmt\u001b[0m\u001b[0;34m.\u001b[0m\u001b[0mcol_space\u001b[0m\u001b[0;34m.\u001b[0m\u001b[0mitems\u001b[0m\u001b[0;34m(\u001b[0m\u001b[0;34m)\u001b[0m\u001b[0;34m\u001b[0m\u001b[0;34m\u001b[0m\u001b[0m\n\u001b[0m\u001b[1;32m     57\u001b[0m         }\n\u001b[1;32m     58\u001b[0m \u001b[0;34m\u001b[0m\u001b[0m\n",
                        "\u001b[0;31mAttributeError\u001b[0m: 'NoneType' object has no attribute 'items'"
                    ]
                },
                {
                    "data": {
                        "text/plain": "                        uid                  name    shortname address  \\\n0  5a26a41a31ac6c676705e94c           c\u1ed9ng c\u00e0 ph\u00ea  Coffee Shop           \n1  5627c637498e21ca8f40f4be  Leaf Drinks and More  Coffee Shop           \n2  55ff7cf0498e203b2932d5fd     Namunamu Cafe 180         Caf\u00e9           \n3  4c25fdd8f1272d7f33ac85c5      Highlands Coffee         Caf\u00e9           \n4  51bd1671498e58791c2ea92d        Freeman Coffee  Coffee Shop           \n\n  postalcode        lat         lng  \n0     551105  16.068063  108.223512  \n1     550000  16.067020  108.224790  \n2     550000  16.066268  108.224496  \n3      60999  16.069946  108.224961  \n4     550000  16.070851  108.221230  "
                    },
                    "execution_count": 18,
                    "metadata": {},
                    "output_type": "execute_result"
                }
            ],
            "source": "df_raw = []\nfor item in items:\n    venue = item[\"venue\"]\n    categories, uid, name, location = venue[\"categories\"], venue[\"id\"], venue[\"name\"], venue[\"location\"]\n    print(location)\n    assert len(categories) == 1\n    shortname = categories[0][\"shortName\"]\n    address =  ''\n    if hasattr(location, 'address'):\n      address = location['address']\n    if not \"postalCode\" in location:\n        continue\n    postalcode = location[\"postalCode\"]\n    lat = location[\"lat\"]\n    lng = location[\"lng\"]\n    datarow = (uid, name, shortname, address, postalcode, lat, lng)\n    df_raw.append(datarow)\ndf = pd.DataFrame(df_raw, columns=[\"uid\", \"name\", \"shortname\", \"address\", \"postalcode\", \"lat\", \"lng\"])\nprint(\"found %i cafes\" % len(df))\ndf.head()\n"
        },
        {
            "cell_type": "code",
            "execution_count": null,
            "metadata": {},
            "outputs": [],
            "source": ""
        }
    ],
    "metadata": {
        "kernelspec": {
            "display_name": "Python 3.7",
            "language": "python",
            "name": "python3"
        },
        "language_info": {
            "codemirror_mode": {
                "name": "ipython",
                "version": 3
            },
            "file_extension": ".py",
            "mimetype": "text/x-python",
            "name": "python",
            "nbconvert_exporter": "python",
            "pygments_lexer": "ipython3",
            "version": "3.7.10"
        }
    },
    "nbformat": 4,
    "nbformat_minor": 1
}